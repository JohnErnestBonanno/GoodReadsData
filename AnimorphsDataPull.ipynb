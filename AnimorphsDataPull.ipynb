{
 "cells": [
  {
   "cell_type": "code",
   "execution_count": null,
   "metadata": {
    "collapsed": true
   },
   "outputs": [],
   "source": [
    "#https://github.com/sefakilic/goodreads/blob/master/goodreads/book.py"
   ]
  },
  {
   "cell_type": "code",
   "execution_count": 17,
   "metadata": {},
   "outputs": [],
   "source": [
    "from goodreads import client#\n",
    "#where you put the client key... (how would you do this but keep it safe on github?)\n",
    "#need to look it up... "
   ]
  },
  {
   "cell_type": "code",
   "execution_count": null,
   "metadata": {
    "collapsed": true
   },
   "outputs": [],
   "source": [
    "#use beautfiul soup to pull data from wikipedia... what I should have done in the first place\n",
    "#https://en.wikipedia.org/wiki/List_of_Animorphs_books\n",
    "\n",
    "#what I think I need to explore, but prob can also get other stuff \n",
    "#a href=\"/wiki/Special:BookSources/"
   ]
  },
  {
   "cell_type": "code",
   "execution_count": 64,
   "metadata": {},
   "outputs": [],
   "source": [
    "book2 = gc.book(isbn='0-590-62978-6')"
   ]
  },
  {
   "cell_type": "code",
   "execution_count": 65,
   "metadata": {},
   "outputs": [
    {
     "data": {
      "text/plain": [
       "The Visitor (Animorphs, #2)"
      ]
     },
     "execution_count": 65,
     "metadata": {},
     "output_type": "execute_result"
    }
   ],
   "source": [
    "book2"
   ]
  },
  {
   "cell_type": "code",
   "execution_count": 18,
   "metadata": {},
   "outputs": [],
   "source": [
    "book = gc.book(1)"
   ]
  },
  {
   "cell_type": "code",
   "execution_count": 19,
   "metadata": {},
   "outputs": [
    {
     "data": {
      "text/plain": [
       "Harry Potter and the Half-Blood Prince (Harry Potter, #6)"
      ]
     },
     "execution_count": 19,
     "metadata": {},
     "output_type": "execute_result"
    }
   ],
   "source": [
    "book"
   ]
  },
  {
   "cell_type": "code",
   "execution_count": 23,
   "metadata": {
    "collapsed": true
   },
   "outputs": [],
   "source": [
    "#the beginning url is the info you want to look at\n",
    "\n",
    "#https://www.goodreads.com/book/show/776877.The_Invasion #the number part is important\n",
    "animorph1 = gc.book(776877)\n",
    "\n",
    "#gid is the book number you can search for. Can I lin book titles and gids?\n",
    "#gid probably = \"Goodreads id\""
   ]
  },
  {
   "cell_type": "code",
   "execution_count": 56,
   "metadata": {
    "collapsed": true
   },
   "outputs": [],
   "source": [
    "animorph2 = gc.book(776878)"
   ]
  },
  {
   "cell_type": "code",
   "execution_count": 58,
   "metadata": {},
   "outputs": [
    {
     "name": "stdout",
     "output_type": "stream",
     "text": [
      "In Pursuit of VALIS : Selections from the Exegesis\n"
     ]
    }
   ],
   "source": [
    "print(animorph2)"
   ]
  },
  {
   "cell_type": "code",
   "execution_count": 33,
   "metadata": {},
   "outputs": [
    {
     "data": {
      "text/plain": [
       "'776877'"
      ]
     },
     "execution_count": 33,
     "metadata": {},
     "output_type": "execute_result"
    }
   ],
   "source": [
    "animorph1.gid"
   ]
  },
  {
   "cell_type": "code",
   "execution_count": 22,
   "metadata": {},
   "outputs": [
    {
     "data": {
      "text/plain": [
       "'0439785960'"
      ]
     },
     "execution_count": 22,
     "metadata": {},
     "output_type": "execute_result"
    }
   ],
   "source": [
    "book.isbn"
   ]
  },
  {
   "cell_type": "code",
   "execution_count": null,
   "metadata": {
    "collapsed": true
   },
   "outputs": [],
   "source": [
    "gc.book()"
   ]
  },
  {
   "cell_type": "code",
   "execution_count": null,
   "metadata": {
    "collapsed": true
   },
   "outputs": [],
   "source": [
    "gc.base_url()"
   ]
  },
  {
   "cell_type": "code",
   "execution_count": 34,
   "metadata": {},
   "outputs": [],
   "source": [
    "#will need to do a few loops to get through the multiple pages\n",
    "holder = gc.search_books(q='animorph',page=2,search_field = 'all')"
   ]
  },
  {
   "cell_type": "code",
   "execution_count": 37,
   "metadata": {},
   "outputs": [
    {
     "name": "stdout",
     "output_type": "stream",
     "text": [
      "<class 'list'>\n"
     ]
    }
   ],
   "source": [
    "print(type(holder))"
   ]
  },
  {
   "cell_type": "code",
   "execution_count": 38,
   "metadata": {},
   "outputs": [
    {
     "data": {
      "text/plain": [
       "'https://www.goodreads.com/book/show/776877.The_Invasion'"
      ]
     },
     "execution_count": 38,
     "metadata": {},
     "output_type": "execute_result"
    }
   ],
   "source": [
    "#will provide the url of the book\n",
    "animorph1.link"
   ]
  },
  {
   "cell_type": "code",
   "execution_count": 39,
   "metadata": {},
   "outputs": [
    {
     "data": {
      "text/plain": [
       "'5:3965|4:3918|3:3425|2:908|1:421|total:12637'"
      ]
     },
     "execution_count": 39,
     "metadata": {},
     "output_type": "execute_result"
    }
   ],
   "source": [
    "#provides the distribution of the ratings\n",
    "animorph1.rating_dist"
   ]
  },
  {
   "cell_type": "code",
   "execution_count": 40,
   "metadata": {
    "scrolled": true
   },
   "outputs": [
    {
     "data": {
      "text/plain": [
       "OrderedDict([('series_work',\n",
       "              OrderedDict([('id', '148464'),\n",
       "                           ('user_position', '1'),\n",
       "                           ('series',\n",
       "                            OrderedDict([('id', '40442'),\n",
       "                                         ('title', 'Animorphs'),\n",
       "                                         ('description', None),\n",
       "                                         ('note', None),\n",
       "                                         ('series_works_count', '83'),\n",
       "                                         ('primary_work_count', '54'),\n",
       "                                         ('numbered', 'true')]))]))])"
      ]
     },
     "execution_count": 40,
     "metadata": {},
     "output_type": "execute_result"
    }
   ],
   "source": [
    "#Lists something? about the series\n",
    "animorph1.series_works"
   ]
  },
  {
   "cell_type": "code",
   "execution_count": 44,
   "metadata": {},
   "outputs": [
    {
     "data": {
      "text/plain": [
       "'The Invasion (Animorphs, #1)'"
      ]
     },
     "execution_count": 44,
     "metadata": {},
     "output_type": "execute_result"
    }
   ],
   "source": [
    "animorph1.title"
   ]
  },
  {
   "cell_type": "code",
   "execution_count": 46,
   "metadata": {},
   "outputs": [
    {
     "data": {
      "text/plain": [
       "[{'average_rating': '3.67',\n",
       "  'id': 15870118,\n",
       "  'isbn': '0',\n",
       "  'isbn13': None,\n",
       "  'ratings_count': 3,\n",
       "  'reviews_count': 72,\n",
       "  'text_reviews_count': 10,\n",
       "  'work_ratings_count': 3,\n",
       "  'work_reviews_count': 73,\n",
       "  'work_text_reviews_count': 10},\n",
       " {'average_rating': '4.80',\n",
       "  'id': 30330743,\n",
       "  'isbn': '4',\n",
       "  'isbn13': None,\n",
       "  'ratings_count': 5,\n",
       "  'reviews_count': 21,\n",
       "  'text_reviews_count': 1,\n",
       "  'work_ratings_count': 5,\n",
       "  'work_reviews_count': 21,\n",
       "  'work_text_reviews_count': 1},\n",
       " {'average_rating': '3.67',\n",
       "  'id': 29625383,\n",
       "  'isbn': '9',\n",
       "  'isbn13': None,\n",
       "  'ratings_count': 3,\n",
       "  'reviews_count': 9,\n",
       "  'text_reviews_count': 0,\n",
       "  'work_ratings_count': 3,\n",
       "  'work_reviews_count': 9,\n",
       "  'work_text_reviews_count': 0},\n",
       " {'average_rating': '2.80',\n",
       "  'id': 39330142,\n",
       "  'isbn': '7',\n",
       "  'isbn13': '9781454303077',\n",
       "  'ratings_count': 5,\n",
       "  'reviews_count': 24,\n",
       "  'text_reviews_count': 0,\n",
       "  'work_ratings_count': 5,\n",
       "  'work_reviews_count': 24,\n",
       "  'work_text_reviews_count': 0},\n",
       " {'average_rating': '0.00',\n",
       "  'id': 41558498,\n",
       "  'isbn': '8',\n",
       "  'isbn13': None,\n",
       "  'ratings_count': 0,\n",
       "  'reviews_count': 0,\n",
       "  'text_reviews_count': 0,\n",
       "  'work_ratings_count': 0,\n",
       "  'work_reviews_count': 0,\n",
       "  'work_text_reviews_count': 0},\n",
       " {'average_rating': '0.00',\n",
       "  'id': 9695160,\n",
       "  'isbn': '5',\n",
       "  'isbn13': None,\n",
       "  'ratings_count': 0,\n",
       "  'reviews_count': 2,\n",
       "  'text_reviews_count': 0,\n",
       "  'work_ratings_count': 0,\n",
       "  'work_reviews_count': 2,\n",
       "  'work_text_reviews_count': 0}]"
      ]
     },
     "execution_count": 46,
     "metadata": {},
     "output_type": "execute_result"
    }
   ],
   "source": [
    "gc.book_review_stats('0439785960')"
   ]
  },
  {
   "cell_type": "code",
   "execution_count": 47,
   "metadata": {
    "collapsed": true
   },
   "outputs": [],
   "source": [
    "holder2 = gc.search_books(q='The Invasion (Animorphs, #1)',page=1,search_field = 'title')"
   ]
  },
  {
   "cell_type": "code",
   "execution_count": 50,
   "metadata": {},
   "outputs": [
    {
     "name": "stdout",
     "output_type": "stream",
     "text": [
      "<class 'list'>\n"
     ]
    }
   ],
   "source": [
    "print(type(holder2))"
   ]
  },
  {
   "cell_type": "code",
   "execution_count": 52,
   "metadata": {},
   "outputs": [],
   "source": [
    "book2 = gc.book('1128434')"
   ]
  },
  {
   "cell_type": "code",
   "execution_count": 55,
   "metadata": {},
   "outputs": [
    {
     "data": {
      "text/plain": [
       "'1128434'"
      ]
     },
     "execution_count": 55,
     "metadata": {},
     "output_type": "execute_result"
    }
   ],
   "source": [
    "book2.gid"
   ]
  },
  {
   "cell_type": "code",
   "execution_count": 60,
   "metadata": {},
   "outputs": [
    {
     "ename": "NameError",
     "evalue": "name 'getSeries' is not defined",
     "output_type": "error",
     "traceback": [
      "\u001b[1;31m---------------------------------------------------------------------------\u001b[0m",
      "\u001b[1;31mNameError\u001b[0m                                 Traceback (most recent call last)",
      "\u001b[1;32m<ipython-input-60-6e264550e94e>\u001b[0m in \u001b[0;36m<module>\u001b[1;34m()\u001b[0m\n\u001b[1;32m----> 1\u001b[1;33m \u001b[0mgetSeries\u001b[0m\u001b[1;33m(\u001b[0m\u001b[1;36m123\u001b[0m\u001b[1;33m)\u001b[0m\u001b[1;33m\u001b[0m\u001b[0m\n\u001b[0m",
      "\u001b[1;31mNameError\u001b[0m: name 'getSeries' is not defined"
     ]
    }
   ],
   "source": [
    "getSeries(123)"
   ]
  }
 ],
 "metadata": {
  "kernelspec": {
   "display_name": "Python 3",
   "language": "python",
   "name": "python3"
  },
  "language_info": {
   "codemirror_mode": {
    "name": "ipython",
    "version": 3
   },
   "file_extension": ".py",
   "mimetype": "text/x-python",
   "name": "python",
   "nbconvert_exporter": "python",
   "pygments_lexer": "ipython3",
   "version": "3.6.3"
  }
 },
 "nbformat": 4,
 "nbformat_minor": 2
}
